{
 "metadata": {
  "language_info": {
   "codemirror_mode": {
    "name": "ipython",
    "version": 3
   },
   "file_extension": ".py",
   "mimetype": "text/x-python",
   "name": "python",
   "nbconvert_exporter": "python",
   "pygments_lexer": "ipython3",
   "version": "3.8.1"
  },
  "orig_nbformat": 2,
  "kernelspec": {
   "name": "python381jvsc74a57bd0cbfff1553ac91af4eb8a04032ccb949ced6dcf5699291324313c1197c270e807",
   "display_name": "Python 3.8.1 32-bit"
  }
 },
 "nbformat": 4,
 "nbformat_minor": 2,
 "cells": [
  {
   "cell_type": "code",
   "execution_count": 1,
   "metadata": {},
   "outputs": [],
   "source": []
  },
  {
   "cell_type": "code",
   "execution_count": 14,
   "metadata": {},
   "outputs": [
    {
     "output_type": "stream",
     "name": "stdout",
     "text": [
      "Solved!\n"
     ]
    }
   ],
   "source": [
    "# alphabet = \"abcdefghijklmnopqrstuvwxyz\"\n",
    "def solve_word_ladder(start,goal):\n",
    "    \n",
    "    for i in range(len(start)):\n",
    "        if start[i] != goal[i]:\n",
    "            test = start[:i]+goal[i]+start[i+1:]\n",
    "            if is_valid_word(test):\n",
    "                print(test)\n",
    "                return solve_word_ladder(test,goal)\n",
    "    print(\"Solved!\")\n",
    "\n",
    "solve_word_ladder(\"wheat\",\"bread\")"
   ]
  },
  {
   "cell_type": "code",
   "execution_count": 16,
   "metadata": {},
   "outputs": [
    {
     "output_type": "stream",
     "name": "stdout",
     "text": [
      "hi\nho\n"
     ]
    }
   ],
   "source": [
    "x =\"hi\"\n",
    "b = x[:1] + \"o\" + x[2:]\n",
    "print(x)\n",
    "print(b)"
   ]
  },
  {
   "cell_type": "code",
   "execution_count": 18,
   "metadata": {},
   "outputs": [
    {
     "output_type": "stream",
     "name": "stdout",
     "text": [
      "ABCDEFGHIJKLMNOPQRSTUVWXYZ\nA\nB\nC\nD\nE\nF\nG\nH\nI\nJ\nK\nL\nM\nN\nO\nP\nQ\nR\nS\nT\nU\nV\nW\nX\nY\nZ\n"
     ]
    }
   ],
   "source": [
    "from search import *\n",
    "print(ALPHABET)\n",
    "for i in ALPHABET:\n",
    "    print(i)"
   ]
  },
  {
   "cell_type": "code",
   "execution_count": null,
   "metadata": {},
   "outputs": [],
   "source": []
  }
 ]
}